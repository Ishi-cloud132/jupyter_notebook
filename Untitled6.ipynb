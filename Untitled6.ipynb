{
 "cells": [
  {
   "cell_type": "code",
   "execution_count": null,
   "id": "5f9e2687-b89e-4e9e-8b60-1ce9c21005fd",
   "metadata": {},
   "outputs": [],
   "source": [
    "import numpy as np\n",
    "import pandas as pd\n",
    "from sklearn.model_selection import LeaveOneOut\n",
    "from sklearn.svm import SVC\n",
    "from sklearn.metrics import accuracy_score, precision_score, f1_score, roc_auc_score, confusion_matrix, roc_curve\n",
    "import matplotlib.pyplot as plt\n",
    "from sklearn.preprocessing import StandardScaler\n",
    "\n",
    "\n",
    "# Load dataset\n",
    "df = pd.read_csv('C:\\\\Users\\\\ishig\\\\anaconda_projects\\\\train.csv')\n",
    "\n",
    "# Split your dataset into features and target\n",
    "x = df.drop('Survived', axis=1)  # Features\n",
    "y = df['Survived']  # Target\n",
    "\n",
    "# Preprocessing: Handle missing values if necessary (e.g., fill missing values)\n",
    "x = x.fillna(x.mean())  # Replace NaNs with mean (or use other strategies)\n",
    "\n",
    "# Optional: Convert categorical variables to numerical (if any)\n",
    "# Check if you have any non-numeric columns (e.g., object type columns)\n",
    "x = pd.get_dummies(x, drop_first=True)  # One-hot encoding for categorical columns\n",
    "print(x.dtypes)  #st=True)  # This converts categorical variables\n",
    "\n",
    "# Scaling features (important for SVM)\n",
    "scaler = StandardScaler()\n",
    "x_scaled = scaler.fit_transform(x)\n",
    "\n",
    "# Use a smaller subset for debugging (e.g., first 100 rows)\n",
    "x_small = x_scaled[:100]  # First 100 rows of x_scaled\n",
    "y_small = y[:100]  # First 100 rows of y\n",
    "\n",
    "# Initialize LeaveOneOut\n",
    "print(df)"
   ]
  },
  {
   "cell_type": "code",
   "execution_count": null,
   "id": "f1c00d22-f41d-4bf1-b961-a9968819d657",
   "metadata": {},
   "outputs": [],
   "source": []
  },
  {
   "cell_type": "code",
   "execution_count": null,
   "id": "cea06a3e-ed4d-48aa-b765-19b13723b6db",
   "metadata": {},
   "outputs": [],
   "source": []
  },
  {
   "cell_type": "code",
   "execution_count": null,
   "id": "536e3d7f-a73f-43bc-8681-618441774ebb",
   "metadata": {},
   "outputs": [],
   "source": []
  },
  {
   "cell_type": "code",
   "execution_count": null,
   "id": "c554685e-4bf3-4062-b785-2b886d95c86b",
   "metadata": {},
   "outputs": [],
   "source": []
  },
  {
   "cell_type": "code",
   "execution_count": null,
   "id": "3b8f008a-fb2f-4fff-bd4a-4d9a2637667e",
   "metadata": {},
   "outputs": [],
   "source": []
  }
 ],
 "metadata": {
  "kernelspec": {
   "display_name": "Python [conda env:base] *",
   "language": "python",
   "name": "conda-base-py"
  },
  "language_info": {
   "codemirror_mode": {
    "name": "ipython",
    "version": 3
   },
   "file_extension": ".py",
   "mimetype": "text/x-python",
   "name": "python",
   "nbconvert_exporter": "python",
   "pygments_lexer": "ipython3",
   "version": "3.12.7"
  }
 },
 "nbformat": 4,
 "nbformat_minor": 5
}
